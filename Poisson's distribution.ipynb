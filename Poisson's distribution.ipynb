{
 "cells": [
  {
   "cell_type": "markdown",
   "metadata": {},
   "source": [
    "# Poisson's distribution"
   ]
  },
  {
   "cell_type": "markdown",
   "metadata": {},
   "source": [
    "#### The Poisson distribution is the discrete probability distribution of the number of events occurring in a given time period, given the average number of times the event occurs over that time period.\n",
    "\n",
    "\n",
    "Let X be the discrete random variable that represents the number of events observed over a given time period. Let λ be the expected value (average) of X. If X follows a Poisson distribution, then the probability of observing k events over the time period is\n",
    "\n",
    "####                           P(X=k) = ( (λ^k) * (e^-λ) )  /  k!\n",
    "\n",
    "where e is Euler's number.\n",
    "        "
   ]
  },
  {
   "cell_type": "markdown",
   "metadata": {},
   "source": [
    "## Plotting a poisson distribution"
   ]
  },
  {
   "cell_type": "code",
   "execution_count": 9,
   "metadata": {},
   "outputs": [],
   "source": [
    "from scipy.stats import poisson\n",
    "import matplotlib.pyplot as plt\n",
    "import numpy as np"
   ]
  },
  {
   "cell_type": "code",
   "execution_count": 19,
   "metadata": {},
   "outputs": [
    {
     "data": {
      "text/plain": [
       "<matplotlib.collections.LineCollection at 0x1c70d7f6f60>"
      ]
     },
     "execution_count": 19,
     "metadata": {},
     "output_type": "execute_result"
    },
    {
     "data": {
      "image/png": "[encoded data removed]",
      "text/plain": [
       "<Figure size 432x288 with 1 Axes>"
      ]
     },
     "metadata": {},
     "output_type": "display_data"
    }
   ],
   "source": [
    "fig, ax = plt.subplots(1, 1)\n",
    "mu = 1.6\n",
    "x = np.arange(poisson.ppf(0.01, mu), poisson.ppf(0.99, mu))\n",
    "ax.plot(x, poisson.pmf(x, mu), 'bo', ms=8, label='poisson pmf')\n",
    "ax.vlines(x, 0, poisson.pmf(x, mu), colors='b', lw=5, alpha=0.5)"
   ]
  },
  {
   "cell_type": "code",
   "execution_count": null,
   "metadata": {},
   "outputs": [],
   "source": []
  },
  {
   "cell_type": "markdown",
   "metadata": {},
   "source": [
    "### In the World Cup, an average of 2.5 goals are scored each game. Modeling this situation with a Poisson distribution, what is the probability that 3 goals are scored in a game?"
   ]
  },
  {
   "cell_type": "code",
   "execution_count": 3,
   "metadata": {},
   "outputs": [
    {
     "data": {
      "text/plain": [
       "0.21376301724973648"
      ]
     },
     "execution_count": 3,
     "metadata": {},
     "output_type": "execute_result"
    }
   ],
   "source": [
    "# poisson.pmf(k, mu(λ) )\n",
    "# λ = 2.5, k = 3\n",
    "poisson.pmf(3,2.5)"
   ]
  },
  {
   "cell_type": "markdown",
   "metadata": {},
   "source": [
    "#### A statistician records the number of cars that approach an intersection. He finds that an average of 1.6 cars approach the intersection every minute.Assuming the number of cars that approach this intersection follows a Poisson distribution, what is the probability that 3 or more cars will approach the intersection within a minute?\n",
    "\n",
    " Solution :For this problem, λ=1.6. The goal of this problem is to find ,P(X≥3), the probability that there are 3 or more cars approaching the intersection within a minute. Since there is no upper limit on the value of k,k, this probability cannot be computed directly. However, its complement, P(X≤2), can be computed to give P(X≥3):"
   ]
  },
  {
   "cell_type": "code",
   "execution_count": 4,
   "metadata": {},
   "outputs": [
    {
     "data": {
      "text/plain": [
       "0.21664151018073696"
      ]
     },
     "execution_count": 4,
     "metadata": {},
     "output_type": "execute_result"
    }
   ],
   "source": [
    "1-poisson.cdf(2,1.6)"
   ]
  },
  {
   "cell_type": "markdown",
   "metadata": {},
   "source": [
    "## Real World Aplication\n",
    "\n",
    "#### A call center receives an average of 4.5 calls every 5 minutes. Each agent can handle one of these calls over the 5 minute period. If a call is received, but no agent is available to take it, then that caller will be placed on hold. Assuming that the calls follow a Poisson distribution, what is the minimum number of agents needed on duty so that calls are placed on hold at most 10% of the time? \n",
    "\n",
    "Solution : In order for all calls to be taken, the number of agents on duty should be greater than or equal to the number of calls received. If X is the number of calls received and kk is the number of agents, then kk should be set such that P(X>k)≤0.1, or equivalently,P(X≤k)>0.9.\n",
    "\n",
    "The average number of calls is 4.5, so λ=4.5:"
   ]
  },
  {
   "cell_type": "code",
   "execution_count": 5,
   "metadata": {},
   "outputs": [],
   "source": [
    "l = []\n",
    "for i in range(20):\n",
    "    l.append(poisson.cdf(i, 4.5))"
   ]
  },
  {
   "cell_type": "code",
   "execution_count": 6,
   "metadata": {},
   "outputs": [
    {
     "name": "stdout",
     "output_type": "stream",
     "text": [
      "0 0.011108996538242308\n",
      "1 0.06109948096033269\n",
      "2 0.17357807091003602\n",
      "3 0.34229595583459105\n",
      "4 0.5321035763747151\n",
      "5 0.7029304348608274\n",
      "6 0.8310505787254115\n",
      "7 0.913413528352644\n",
      "8 0.9597426875179622\n",
      "9 0.9829072671006214\n",
      "10 0.9933313279128181\n",
      "11 0.9975957164268985\n",
      "12 0.9991948621196787\n",
      "13 0.9997484125517949\n",
      "14 0.9999263394764036\n",
      "15 0.9999797175537863\n",
      "16 0.9999947301380502\n",
      "17 0.9999987040574141\n",
      "18 0.9999996975372551\n",
      "19 0.9999999328351122\n"
     ]
    }
   ],
   "source": [
    "for i, val in enumerate(l):\n",
    "    print(i,val)"
   ]
  },
  {
   "cell_type": "markdown",
   "metadata": {},
   "source": [
    "If the goal is to make sure that less than 10% of calls are placed on hold, then 7 agents should be on duty."
   ]
  },
  {
   "cell_type": "markdown",
   "metadata": {},
   "source": [
    "### Generating a sample and plotting the distribution"
   ]
  },
  {
   "cell_type": "code",
   "execution_count": 17,
   "metadata": {},
   "outputs": [
    {
     "name": "stderr",
     "output_type": "stream",
     "text": [
      "C:\\Users\\brijesh\\Anaconda3\\lib\\site-packages\\scipy\\stats\\stats.py:1713: FutureWarning: Using a non-tuple sequence for multidimensional indexing is deprecated; use `arr[tuple(seq)]` instead of `arr[seq]`. In the future this will be interpreted as an array index, `arr[np.array(seq)]`, which will result either in an error or a different result.\n",
      "  return np.add.reduce(sorted[indexer] * weights, axis=axis) / sumval\n"
     ]
    },
    {
     "data": {
      "image/png": "[encoded data removed]",
      "text/plain": [
       "<Figure size 432x288 with 1 Axes>"
      ]
     },
     "metadata": {},
     "output_type": "display_data"
    }
   ],
   "source": [
    "# Import matplotlib.pyplot, and seaborn\n",
    "import matplotlib.pyplot as plt \n",
    "import seaborn as sns\n",
    "%matplotlib inline\n",
    "# Create the sample\n",
    "sample = poisson.rvs(mu=2.5, size=10000, random_state=13)\n",
    "\n",
    "# Plot the sample\n",
    "sns.distplot(sample, kde=True)\n",
    "plt.show()"
   ]
  },
  {
   "cell_type": "code",
   "execution_count": null,
   "metadata": {},
   "outputs": [],
   "source": []
  }
 ],
 "metadata": {
  "kernelspec": {
   "display_name": "Python 3",
   "language": "python",
   "name": "python3"
  },
  "language_info": {
   "codemirror_mode": {
    "name": "ipython",
    "version": 3
   },
   "file_extension": ".py",
   "mimetype": "text/x-python",
   "name": "python",
   "nbconvert_exporter": "python",
   "pygments_lexer": "ipython3",
   "version": "3.6.5"
  }
 },
 "nbformat": 4,
 "nbformat_minor": 2
}
